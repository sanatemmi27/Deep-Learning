{
  "nbformat": 4,
  "nbformat_minor": 0,
  "metadata": {
    "colab": {
      "name": "RNN.ipynb",
      "provenance": []
    },
    "kernelspec": {
      "name": "python3",
      "display_name": "Python 3"
    },
    "accelerator": "GPU"
  },
  "cells": [
    {
      "cell_type": "code",
      "metadata": {
        "id": "N3fgEslYLgxx",
        "colab_type": "code",
        "colab": {
          "base_uri": "https://localhost:8080/",
          "height": 121
        },
        "outputId": "b2a8e223-edb7-4246-cd18-40185f3d0a50"
      },
      "source": [
        "from google.colab import drive\n",
        "drive.mount('/content/drive')"
      ],
      "execution_count": 4,
      "outputs": [
        {
          "output_type": "stream",
          "text": [
            "Go to this URL in a browser: https://accounts.google.com/o/oauth2/auth?client_id=947318989803-6bn6qk8qdgf4n4g3pfee6491hc0brc4i.apps.googleusercontent.com&redirect_uri=urn%3aietf%3awg%3aoauth%3a2.0%3aoob&response_type=code&scope=email%20https%3a%2f%2fwww.googleapis.com%2fauth%2fdocs.test%20https%3a%2f%2fwww.googleapis.com%2fauth%2fdrive%20https%3a%2f%2fwww.googleapis.com%2fauth%2fdrive.photos.readonly%20https%3a%2f%2fwww.googleapis.com%2fauth%2fpeopleapi.readonly\n",
            "\n",
            "Enter your authorization code:\n",
            "··········\n",
            "Mounted at /content/drive\n"
          ],
          "name": "stdout"
        }
      ]
    },
    {
      "cell_type": "code",
      "metadata": {
        "id": "Xt3IlwBINtkI",
        "colab_type": "code",
        "colab": {}
      },
      "source": [
        "# Libraries\n",
        "\n",
        "import tensorflow\n",
        "import theano\n",
        "import keras\n",
        "import pandas as pd\n",
        "import numpy as np\n",
        "import matplotlib.pyplot as plt"
      ],
      "execution_count": 0,
      "outputs": []
    },
    {
      "cell_type": "code",
      "metadata": {
        "id": "nNcf65mYNDmz",
        "colab_type": "code",
        "colab": {}
      },
      "source": [
        "dataset_train = pd.read_csv('/content/drive/My Drive/Google_Stock_Price_Train.csv')"
      ],
      "execution_count": 0,
      "outputs": []
    },
    {
      "cell_type": "code",
      "metadata": {
        "id": "GqEyrj-jNo2J",
        "colab_type": "code",
        "colab": {
          "base_uri": "https://localhost:8080/",
          "height": 195
        },
        "outputId": "fa9ccff4-b9f4-4bd4-be5e-55749db232f6"
      },
      "source": [
        "dataset_train.head()"
      ],
      "execution_count": 7,
      "outputs": [
        {
          "output_type": "execute_result",
          "data": {
            "text/html": [
              "<div>\n",
              "<style scoped>\n",
              "    .dataframe tbody tr th:only-of-type {\n",
              "        vertical-align: middle;\n",
              "    }\n",
              "\n",
              "    .dataframe tbody tr th {\n",
              "        vertical-align: top;\n",
              "    }\n",
              "\n",
              "    .dataframe thead th {\n",
              "        text-align: right;\n",
              "    }\n",
              "</style>\n",
              "<table border=\"1\" class=\"dataframe\">\n",
              "  <thead>\n",
              "    <tr style=\"text-align: right;\">\n",
              "      <th></th>\n",
              "      <th>Date</th>\n",
              "      <th>Open</th>\n",
              "      <th>High</th>\n",
              "      <th>Low</th>\n",
              "      <th>Close</th>\n",
              "      <th>Volume</th>\n",
              "    </tr>\n",
              "  </thead>\n",
              "  <tbody>\n",
              "    <tr>\n",
              "      <th>0</th>\n",
              "      <td>1/3/2012</td>\n",
              "      <td>325.25</td>\n",
              "      <td>332.83</td>\n",
              "      <td>324.97</td>\n",
              "      <td>663.59</td>\n",
              "      <td>7,380,500</td>\n",
              "    </tr>\n",
              "    <tr>\n",
              "      <th>1</th>\n",
              "      <td>1/4/2012</td>\n",
              "      <td>331.27</td>\n",
              "      <td>333.87</td>\n",
              "      <td>329.08</td>\n",
              "      <td>666.45</td>\n",
              "      <td>5,749,400</td>\n",
              "    </tr>\n",
              "    <tr>\n",
              "      <th>2</th>\n",
              "      <td>1/5/2012</td>\n",
              "      <td>329.83</td>\n",
              "      <td>330.75</td>\n",
              "      <td>326.89</td>\n",
              "      <td>657.21</td>\n",
              "      <td>6,590,300</td>\n",
              "    </tr>\n",
              "    <tr>\n",
              "      <th>3</th>\n",
              "      <td>1/6/2012</td>\n",
              "      <td>328.34</td>\n",
              "      <td>328.77</td>\n",
              "      <td>323.68</td>\n",
              "      <td>648.24</td>\n",
              "      <td>5,405,900</td>\n",
              "    </tr>\n",
              "    <tr>\n",
              "      <th>4</th>\n",
              "      <td>1/9/2012</td>\n",
              "      <td>322.04</td>\n",
              "      <td>322.29</td>\n",
              "      <td>309.46</td>\n",
              "      <td>620.76</td>\n",
              "      <td>11,688,800</td>\n",
              "    </tr>\n",
              "  </tbody>\n",
              "</table>\n",
              "</div>"
            ],
            "text/plain": [
              "       Date    Open    High     Low   Close      Volume\n",
              "0  1/3/2012  325.25  332.83  324.97  663.59   7,380,500\n",
              "1  1/4/2012  331.27  333.87  329.08  666.45   5,749,400\n",
              "2  1/5/2012  329.83  330.75  326.89  657.21   6,590,300\n",
              "3  1/6/2012  328.34  328.77  323.68  648.24   5,405,900\n",
              "4  1/9/2012  322.04  322.29  309.46  620.76  11,688,800"
            ]
          },
          "metadata": {
            "tags": []
          },
          "execution_count": 7
        }
      ]
    },
    {
      "cell_type": "code",
      "metadata": {
        "id": "UWhR7dYhOEeu",
        "colab_type": "code",
        "colab": {
          "base_uri": "https://localhost:8080/",
          "height": 34
        },
        "outputId": "407ef4a8-8ede-4cb8-8d49-142581434d5f"
      },
      "source": [
        "training_set = dataset_train.iloc[:, 1:2].values\n",
        "training_set.shape"
      ],
      "execution_count": 8,
      "outputs": [
        {
          "output_type": "execute_result",
          "data": {
            "text/plain": [
              "(1258, 1)"
            ]
          },
          "metadata": {
            "tags": []
          },
          "execution_count": 8
        }
      ]
    },
    {
      "cell_type": "markdown",
      "metadata": {
        "id": "owFfVLDSTaop",
        "colab_type": "text"
      },
      "source": [
        "# Feature Scaling"
      ]
    },
    {
      "cell_type": "code",
      "metadata": {
        "id": "HIFoQBF0PW2t",
        "colab_type": "code",
        "colab": {}
      },
      "source": [
        "# normalization\n",
        "from sklearn.preprocessing import MinMaxScaler\n",
        "sc = MinMaxScaler(feature_range = (0, 1))\n",
        "training_set_scaled = sc.fit_transform(training_set)"
      ],
      "execution_count": 0,
      "outputs": []
    },
    {
      "cell_type": "code",
      "metadata": {
        "id": "zuLQ0bKhQK4F",
        "colab_type": "code",
        "colab": {}
      },
      "source": [
        "X_train = []\n",
        "y_train = []\n",
        "for i in range(60, 1258):\n",
        "    X_train.append(training_set_scaled[i-60:i, 0])\n",
        "    y_train.append(training_set_scaled[i, 0])\n",
        "X_train, y_train = np.array(X_train), np.array(y_train)"
      ],
      "execution_count": 0,
      "outputs": []
    },
    {
      "cell_type": "code",
      "metadata": {
        "id": "WaAi80r6TwRy",
        "colab_type": "code",
        "colab": {
          "base_uri": "https://localhost:8080/",
          "height": 34
        },
        "outputId": "f33974a1-1196-4dfc-f728-85c69478d8b3"
      },
      "source": [
        "X_train.shape, y_train.shape "
      ],
      "execution_count": 12,
      "outputs": [
        {
          "output_type": "execute_result",
          "data": {
            "text/plain": [
              "((1198, 60), (1198,))"
            ]
          },
          "metadata": {
            "tags": []
          },
          "execution_count": 12
        }
      ]
    },
    {
      "cell_type": "code",
      "metadata": {
        "id": "keMwis4Ea_I8",
        "colab_type": "code",
        "colab": {}
      },
      "source": [
        "# Reshaping\n",
        "X_train = np.reshape(X_train, (X_train.shape[0], X_train.shape[1], 1))\n"
      ],
      "execution_count": 0,
      "outputs": []
    },
    {
      "cell_type": "code",
      "metadata": {
        "id": "GGxo64IxZi8k",
        "colab_type": "code",
        "colab": {
          "base_uri": "https://localhost:8080/",
          "height": 1000
        },
        "outputId": "3e6da3c0-2926-4ba4-d384-36d1c89ba71b"
      },
      "source": [
        "#Building the RNN\n",
        "\n",
        "# Importing the Keras libraries and packages\n",
        "from keras.models import Sequential\n",
        "from keras.layers import Dense\n",
        "from keras.layers import LSTM\n",
        "from keras.layers import Dropout\n",
        "\n",
        "# Initialising the RNN\n",
        "regressor = Sequential()\n",
        "\n",
        "# Adding the first LSTM layer and some Dropout regularisation\n",
        "regressor.add(LSTM(units = 50, return_sequences = True, input_shape = (X_train.shape[1], 1)))\n",
        "regressor.add(Dropout(0.2))\n",
        "\n",
        "# Adding a second LSTM layer and some Dropout regularisation\n",
        "regressor.add(LSTM(units = 50, return_sequences = True))\n",
        "regressor.add(Dropout(0.2))\n",
        "\n",
        "# Adding a third LSTM layer and some Dropout regularisation\n",
        "regressor.add(LSTM(units = 50, return_sequences = True))\n",
        "regressor.add(Dropout(0.2))\n",
        "\n",
        "# Adding a fourth LSTM layer and some Dropout regularisation\n",
        "regressor.add(LSTM(units = 50))\n",
        "regressor.add(Dropout(0.2))\n",
        "\n",
        "# Adding the output layer\n",
        "regressor.add(Dense(units = 1))\n",
        "\n",
        "# Compiling the RNN\n",
        "regressor.compile(optimizer = 'sgd', loss = 'mse')\n",
        "\n",
        "# Fitting the RNN to the Training set\n",
        "history = regressor.fit(X_train, y_train, \n",
        "                        epochs = 100, \n",
        "                        batch_size = 32,\n",
        "                        )\n",
        "\n"
      ],
      "execution_count": 58,
      "outputs": [
        {
          "output_type": "stream",
          "text": [
            "Epoch 1/100\n",
            "1198/1198 [==============================] - 22s 18ms/step - loss: 0.1151\n",
            "Epoch 2/100\n",
            "1198/1198 [==============================] - 17s 14ms/step - loss: 0.0667\n",
            "Epoch 3/100\n",
            "1198/1198 [==============================] - 17s 14ms/step - loss: 0.0637\n",
            "Epoch 4/100\n",
            "1198/1198 [==============================] - 17s 14ms/step - loss: 0.0595\n",
            "Epoch 5/100\n",
            "1198/1198 [==============================] - 17s 14ms/step - loss: 0.0552\n",
            "Epoch 6/100\n",
            "1198/1198 [==============================] - 17s 14ms/step - loss: 0.0499\n",
            "Epoch 7/100\n",
            "1198/1198 [==============================] - 17s 14ms/step - loss: 0.0424\n",
            "Epoch 8/100\n",
            "1198/1198 [==============================] - 17s 14ms/step - loss: 0.0348\n",
            "Epoch 9/100\n",
            "1198/1198 [==============================] - 17s 14ms/step - loss: 0.0251\n",
            "Epoch 10/100\n",
            "1198/1198 [==============================] - 17s 14ms/step - loss: 0.0167\n",
            "Epoch 11/100\n",
            "1198/1198 [==============================] - 17s 14ms/step - loss: 0.0102\n",
            "Epoch 12/100\n",
            "1198/1198 [==============================] - 17s 14ms/step - loss: 0.0074\n",
            "Epoch 13/100\n",
            "1198/1198 [==============================] - 17s 14ms/step - loss: 0.0057\n",
            "Epoch 14/100\n",
            "1198/1198 [==============================] - 17s 14ms/step - loss: 0.0056\n",
            "Epoch 15/100\n",
            "1198/1198 [==============================] - 17s 14ms/step - loss: 0.0052\n",
            "Epoch 16/100\n",
            "1198/1198 [==============================] - 17s 14ms/step - loss: 0.0052\n",
            "Epoch 17/100\n",
            "1198/1198 [==============================] - 17s 14ms/step - loss: 0.0051\n",
            "Epoch 18/100\n",
            "1198/1198 [==============================] - 17s 14ms/step - loss: 0.0053\n",
            "Epoch 19/100\n",
            "1198/1198 [==============================] - 17s 14ms/step - loss: 0.0048\n",
            "Epoch 20/100\n",
            "1198/1198 [==============================] - 17s 14ms/step - loss: 0.0049\n",
            "Epoch 21/100\n",
            "1198/1198 [==============================] - 17s 14ms/step - loss: 0.0049\n",
            "Epoch 22/100\n",
            "1198/1198 [==============================] - 17s 14ms/step - loss: 0.0049\n",
            "Epoch 23/100\n",
            "1198/1198 [==============================] - 17s 14ms/step - loss: 0.0049\n",
            "Epoch 24/100\n",
            "1198/1198 [==============================] - 17s 14ms/step - loss: 0.0045\n",
            "Epoch 25/100\n",
            "1198/1198 [==============================] - 17s 14ms/step - loss: 0.0046\n",
            "Epoch 26/100\n",
            "1198/1198 [==============================] - 17s 14ms/step - loss: 0.0046\n",
            "Epoch 27/100\n",
            "1198/1198 [==============================] - 17s 14ms/step - loss: 0.0049\n",
            "Epoch 28/100\n",
            "1198/1198 [==============================] - 17s 14ms/step - loss: 0.0044\n",
            "Epoch 29/100\n",
            "1198/1198 [==============================] - 17s 14ms/step - loss: 0.0048\n",
            "Epoch 30/100\n",
            "1198/1198 [==============================] - 17s 14ms/step - loss: 0.0047\n",
            "Epoch 31/100\n",
            "1198/1198 [==============================] - 17s 14ms/step - loss: 0.0047\n",
            "Epoch 32/100\n",
            "1198/1198 [==============================] - 17s 14ms/step - loss: 0.0048\n",
            "Epoch 33/100\n",
            "1198/1198 [==============================] - 17s 14ms/step - loss: 0.0045\n",
            "Epoch 34/100\n",
            "1198/1198 [==============================] - 17s 14ms/step - loss: 0.0042\n",
            "Epoch 35/100\n",
            "1198/1198 [==============================] - 17s 14ms/step - loss: 0.0042\n",
            "Epoch 36/100\n",
            "1198/1198 [==============================] - 17s 14ms/step - loss: 0.0044\n",
            "Epoch 37/100\n",
            "1198/1198 [==============================] - 17s 14ms/step - loss: 0.0045\n",
            "Epoch 38/100\n",
            "1198/1198 [==============================] - 17s 14ms/step - loss: 0.0043\n",
            "Epoch 39/100\n",
            "1198/1198 [==============================] - 17s 14ms/step - loss: 0.0042\n",
            "Epoch 40/100\n",
            "1198/1198 [==============================] - 17s 14ms/step - loss: 0.0043\n",
            "Epoch 41/100\n",
            "1198/1198 [==============================] - 17s 14ms/step - loss: 0.0043\n",
            "Epoch 42/100\n",
            "1198/1198 [==============================] - 17s 14ms/step - loss: 0.0043\n",
            "Epoch 43/100\n",
            "1198/1198 [==============================] - 17s 14ms/step - loss: 0.0042\n",
            "Epoch 44/100\n",
            "1198/1198 [==============================] - 17s 14ms/step - loss: 0.0040\n",
            "Epoch 45/100\n",
            "1198/1198 [==============================] - 17s 14ms/step - loss: 0.0045\n",
            "Epoch 46/100\n",
            "1198/1198 [==============================] - 16s 14ms/step - loss: 0.0041\n",
            "Epoch 47/100\n",
            "1198/1198 [==============================] - 16s 14ms/step - loss: 0.0044\n",
            "Epoch 48/100\n",
            "1198/1198 [==============================] - 17s 14ms/step - loss: 0.0039\n",
            "Epoch 49/100\n",
            "1198/1198 [==============================] - 17s 14ms/step - loss: 0.0042\n",
            "Epoch 50/100\n",
            "1198/1198 [==============================] - 17s 14ms/step - loss: 0.0037\n",
            "Epoch 51/100\n",
            "1198/1198 [==============================] - 17s 14ms/step - loss: 0.0042\n",
            "Epoch 52/100\n",
            "1198/1198 [==============================] - 17s 14ms/step - loss: 0.0044\n",
            "Epoch 53/100\n",
            "1198/1198 [==============================] - 16s 14ms/step - loss: 0.0039\n",
            "Epoch 54/100\n",
            "1198/1198 [==============================] - 17s 14ms/step - loss: 0.0040\n",
            "Epoch 55/100\n",
            "1198/1198 [==============================] - 17s 14ms/step - loss: 0.0042\n",
            "Epoch 56/100\n",
            "1198/1198 [==============================] - 17s 14ms/step - loss: 0.0041\n",
            "Epoch 57/100\n",
            "1198/1198 [==============================] - 17s 14ms/step - loss: 0.0037\n",
            "Epoch 58/100\n",
            "1198/1198 [==============================] - 17s 14ms/step - loss: 0.0041\n",
            "Epoch 59/100\n",
            "1198/1198 [==============================] - 17s 14ms/step - loss: 0.0039\n",
            "Epoch 60/100\n",
            "1198/1198 [==============================] - 17s 14ms/step - loss: 0.0039\n",
            "Epoch 61/100\n",
            "1198/1198 [==============================] - 17s 14ms/step - loss: 0.0039\n",
            "Epoch 62/100\n",
            "1198/1198 [==============================] - 17s 14ms/step - loss: 0.0039\n",
            "Epoch 63/100\n",
            "1198/1198 [==============================] - 17s 14ms/step - loss: 0.0041\n",
            "Epoch 64/100\n",
            "1198/1198 [==============================] - 17s 14ms/step - loss: 0.0038\n",
            "Epoch 65/100\n",
            "1198/1198 [==============================] - 17s 14ms/step - loss: 0.0038\n",
            "Epoch 66/100\n",
            "1198/1198 [==============================] - 17s 14ms/step - loss: 0.0038\n",
            "Epoch 67/100\n",
            "1198/1198 [==============================] - 17s 14ms/step - loss: 0.0040\n",
            "Epoch 68/100\n",
            "1198/1198 [==============================] - 17s 14ms/step - loss: 0.0037\n",
            "Epoch 69/100\n",
            "1198/1198 [==============================] - 17s 14ms/step - loss: 0.0039\n",
            "Epoch 70/100\n",
            "1198/1198 [==============================] - 17s 14ms/step - loss: 0.0040\n",
            "Epoch 71/100\n",
            "1198/1198 [==============================] - 16s 14ms/step - loss: 0.0040\n",
            "Epoch 72/100\n",
            "1198/1198 [==============================] - 17s 14ms/step - loss: 0.0039\n",
            "Epoch 73/100\n",
            "1198/1198 [==============================] - 16s 14ms/step - loss: 0.0039\n",
            "Epoch 74/100\n",
            "1198/1198 [==============================] - 16s 14ms/step - loss: 0.0040\n",
            "Epoch 75/100\n",
            "1198/1198 [==============================] - 16s 14ms/step - loss: 0.0039\n",
            "Epoch 76/100\n",
            "1198/1198 [==============================] - 17s 14ms/step - loss: 0.0041\n",
            "Epoch 77/100\n",
            "1198/1198 [==============================] - 16s 14ms/step - loss: 0.0040\n",
            "Epoch 78/100\n",
            "1198/1198 [==============================] - 16s 14ms/step - loss: 0.0037\n",
            "Epoch 79/100\n",
            "1198/1198 [==============================] - 16s 14ms/step - loss: 0.0039\n",
            "Epoch 80/100\n",
            "1198/1198 [==============================] - 16s 14ms/step - loss: 0.0039\n",
            "Epoch 81/100\n",
            "1198/1198 [==============================] - 16s 14ms/step - loss: 0.0038\n",
            "Epoch 82/100\n",
            "1198/1198 [==============================] - 17s 14ms/step - loss: 0.0038\n",
            "Epoch 83/100\n",
            "1198/1198 [==============================] - 17s 14ms/step - loss: 0.0039\n",
            "Epoch 84/100\n",
            "1198/1198 [==============================] - 17s 14ms/step - loss: 0.0037\n",
            "Epoch 85/100\n",
            "1198/1198 [==============================] - 17s 14ms/step - loss: 0.0040\n",
            "Epoch 86/100\n",
            "1198/1198 [==============================] - 17s 14ms/step - loss: 0.0037\n",
            "Epoch 87/100\n",
            "1198/1198 [==============================] - 17s 14ms/step - loss: 0.0039\n",
            "Epoch 88/100\n",
            "1198/1198 [==============================] - 17s 14ms/step - loss: 0.0038\n",
            "Epoch 89/100\n",
            "1198/1198 [==============================] - 17s 14ms/step - loss: 0.0039\n",
            "Epoch 90/100\n",
            "1198/1198 [==============================] - 17s 14ms/step - loss: 0.0036\n",
            "Epoch 91/100\n",
            "1198/1198 [==============================] - 16s 14ms/step - loss: 0.0039\n",
            "Epoch 92/100\n",
            "1198/1198 [==============================] - 16s 14ms/step - loss: 0.0036\n",
            "Epoch 93/100\n",
            "1198/1198 [==============================] - 17s 14ms/step - loss: 0.0039\n",
            "Epoch 94/100\n",
            "1198/1198 [==============================] - 16s 14ms/step - loss: 0.0038\n",
            "Epoch 95/100\n",
            "1198/1198 [==============================] - 16s 14ms/step - loss: 0.0035\n",
            "Epoch 96/100\n",
            "1198/1198 [==============================] - 16s 14ms/step - loss: 0.0038\n",
            "Epoch 97/100\n",
            "1198/1198 [==============================] - 17s 14ms/step - loss: 0.0038\n",
            "Epoch 98/100\n",
            "1198/1198 [==============================] - 17s 14ms/step - loss: 0.0036\n",
            "Epoch 99/100\n",
            "1198/1198 [==============================] - 17s 14ms/step - loss: 0.0038\n",
            "Epoch 100/100\n",
            "1198/1198 [==============================] - 17s 14ms/step - loss: 0.0038\n"
          ],
          "name": "stdout"
        }
      ]
    },
    {
      "cell_type": "code",
      "metadata": {
        "id": "N9pvjyi-lW5O",
        "colab_type": "code",
        "colab": {
          "base_uri": "https://localhost:8080/",
          "height": 295
        },
        "outputId": "90b6bc6e-234c-414c-c3e1-2b9049bf1349"
      },
      "source": [
        "plt.figure(figsize=(8,4))\n",
        "\n",
        "plt.plot(history.history['loss'], label='Train Loss')\n",
        "plt.title('model loss')\n",
        "plt.ylabel('loss')\n",
        "plt.xlabel('epochs')\n",
        "plt.show()"
      ],
      "execution_count": 59,
      "outputs": [
        {
          "output_type": "display_data",
          "data": {
            "image/png": "[encoded data removed]",
            "text/plain": [
              "<Figure size 576x288 with 1 Axes>"
            ]
          },
          "metadata": {
            "tags": []
          }
        }
      ]
    },
    {
      "cell_type": "code",
      "metadata": {
        "id": "CBD1k2voamYp",
        "colab_type": "code",
        "colab": {
          "base_uri": "https://localhost:8080/",
          "height": 34
        },
        "outputId": "3439212a-bf62-4999-f521-6c32eac358d4"
      },
      "source": [
        "#Making the predictions and visualising the results\n",
        "\n",
        "# Getting the real stock price of 2017\n",
        "dataset_test = pd.read_csv('/content/drive/My Drive/Google_Stock_Price_Test.csv')\n",
        "# y_test\n",
        "real_stock_price = dataset_test.iloc[:, 1:2].values\n",
        "\n",
        "# Getting the predicted stock price of 2017\n",
        "dataset_total = pd.concat((dataset_train['Open'], dataset_test['Open']), axis = 0)\n",
        "inputs = dataset_total[len(dataset_total) - len(dataset_test) - 60:].values\n",
        "inputs = inputs.reshape(-1,1)\n",
        "inputs = sc.transform(inputs)\n",
        "print(inputs.shape)"
      ],
      "execution_count": 60,
      "outputs": [
        {
          "output_type": "stream",
          "text": [
            "(80, 1)\n"
          ],
          "name": "stdout"
        }
      ]
    },
    {
      "cell_type": "code",
      "metadata": {
        "id": "3tiQ28er5Vwu",
        "colab_type": "code",
        "colab": {
          "base_uri": "https://localhost:8080/",
          "height": 34
        },
        "outputId": "999918d1-fdec-46c0-9c54-701a3d7ac0fd"
      },
      "source": [
        "X_test.shape[0]"
      ],
      "execution_count": 61,
      "outputs": [
        {
          "output_type": "execute_result",
          "data": {
            "text/plain": [
              "20"
            ]
          },
          "metadata": {
            "tags": []
          },
          "execution_count": 61
        }
      ]
    },
    {
      "cell_type": "code",
      "metadata": {
        "id": "UzhK1FEP2kRI",
        "colab_type": "code",
        "colab": {}
      },
      "source": [
        "X_test = []\n",
        "for i in range(60, 80):\n",
        "    X_test.append(inputs[i-60:i, 0])\n",
        "X_test = np.array(X_test)\n",
        "# batch_size,timesteps, units)\n",
        "X_test = np.reshape(X_test, (X_test.shape[0], X_test.shape[1], 1))\n",
        "\n",
        "\n",
        "\n",
        "y_pred = regressor.predict(X_test)\n",
        "predicted_stock_price = sc.inverse_transform(y_pred)\n"
      ],
      "execution_count": 0,
      "outputs": []
    },
    {
      "cell_type": "code",
      "metadata": {
        "id": "reC7ZZWUaoz-",
        "colab_type": "code",
        "colab": {
          "base_uri": "https://localhost:8080/",
          "height": 295
        },
        "outputId": "de5bf9fd-eba1-454a-aec4-83cecb701494"
      },
      "source": [
        "\n",
        "# Visualising the results\n",
        "plt.plot(real_stock_price, color = 'red', label = 'Real Google Stock Price')\n",
        "plt.plot(predicted_stock_price, color = 'blue', label = 'Predicted Google Stock Price')\n",
        "plt.title('Google Stock Price Prediction')\n",
        "plt.xlabel('Time')\n",
        "plt.ylabel('Google Stock Price')\n",
        "plt.legend()\n",
        "plt.show()\n"
      ],
      "execution_count": 63,
      "outputs": [
        {
          "output_type": "display_data",
          "data": {
            "image/png": "[encoded data removed]",
            "text/plain": [
              "<Figure size 432x288 with 1 Axes>"
            ]
          },
          "metadata": {
            "tags": []
          }
        }
      ]
    },
    {
      "cell_type": "code",
      "metadata": {
        "id": "FqDb7twefLpz",
        "colab_type": "code",
        "colab": {
          "base_uri": "https://localhost:8080/",
          "height": 50
        },
        "outputId": "c42a7a6a-0d4d-4edc-de3e-55e7221251b0"
      },
      "source": [
        "from sklearn.metrics import mean_squared_error\n",
        "from sklearn.metrics import mean_absolute_error\n",
        "\n",
        "# print('Train Mean Absolute Error:', mean_absolute_error(y_train, predicted_stock_price[:,0]))\n",
        "# print('Train Root Mean Squared Error:',np.sqrt(mean_squared_error(y_train, train_predict[:,0])))\n",
        "print('Test Mean Absolute Error:', mean_absolute_error(real_stock_price, predicted_stock_price[:,0]))\n",
        "print('Test Root Mean Squared Error:',np.sqrt(mean_squared_error(real_stock_price, predicted_stock_price[:,0])))"
      ],
      "execution_count": 64,
      "outputs": [
        {
          "output_type": "stream",
          "text": [
            "Test Mean Absolute Error: 27.561845947265617\n",
            "Test Root Mean Squared Error: 29.99439371412344\n"
          ],
          "name": "stdout"
        }
      ]
    },
    {
      "cell_type": "code",
      "metadata": {
        "id": "GXGnGPE_8F3N",
        "colab_type": "code",
        "colab": {
          "base_uri": "https://localhost:8080/",
          "height": 34
        },
        "outputId": "be95aa9b-e5ee-41e3-ff67-d460745b2b77"
      },
      "source": [
        "model_history = history.history\n",
        "print(model_history.keys())"
      ],
      "execution_count": 65,
      "outputs": [
        {
          "output_type": "stream",
          "text": [
            "dict_keys(['loss'])\n"
          ],
          "name": "stdout"
        }
      ]
    },
    {
      "cell_type": "code",
      "metadata": {
        "id": "uo5j1Dy47je_",
        "colab_type": "code",
        "colab": {}
      },
      "source": [
        ""
      ],
      "execution_count": 0,
      "outputs": []
    }
  ]
}